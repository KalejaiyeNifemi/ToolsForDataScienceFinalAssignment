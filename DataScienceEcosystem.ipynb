{
 "cells": [
  {
   "cell_type": "markdown",
   "id": "347e3304",
   "metadata": {},
   "source": [
    "# Data Science Tools and Ecosystem"
   ]
  },
  {
   "cell_type": "markdown",
   "id": "c0f4017a",
   "metadata": {},
   "source": [
    "### Data Science tools and Ecosystem are summarized in this notebook"
   ]
  },
  {
   "cell_type": "markdown",
   "id": "6596037e",
   "metadata": {},
   "source": [
    "#### Some of the popular languages that Data Scientists use are:\n",
    "\n",
    "1. Python\n",
    "2. R\n",
    "3. Julia"
   ]
  },
  {
   "cell_type": "markdown",
   "id": "7cd54b98",
   "metadata": {},
   "source": [
    "#### Some of the commonly used libraries used by Data Scientists include:\n",
    "\n",
    "1. Numpy\n",
    "2. Pandas\n",
    "3. Matplotlib"
   ]
  },
  {
   "cell_type": "markdown",
   "id": "6d56cae1",
   "metadata": {},
   "source": [
    "|Data Science Tools|\n",
    "        |---|\n",
    "        |Apache Hadoop|\n",
    "    |TensorFlow|\n",
    "    |SAS|"
   ]
  },
  {
   "cell_type": "markdown",
   "id": "703786e8",
   "metadata": {},
   "source": [
    "### Below are a few examples of evaluating arithmetic expressions in Python:\n",
    "\n",
    "To multiply: 3*3\n",
    "\n",
    "To add: 3+3\n",
    "\n",
    "To divide: 3/3\n"
   ]
  },
  {
   "cell_type": "code",
   "execution_count": 1,
   "id": "7b9bb84c",
   "metadata": {},
   "outputs": [
    {
     "data": {
      "text/plain": [
       "17"
      ]
     },
     "execution_count": 1,
     "metadata": {},
     "output_type": "execute_result"
    }
   ],
   "source": [
    "'''This a simple arithmetic expression to mutiply then add integers'''\n",
    "(3*4)+5"
   ]
  },
  {
   "cell_type": "code",
   "execution_count": 7,
   "id": "9ae5316d",
   "metadata": {},
   "outputs": [
    {
     "name": "stdout",
     "output_type": "stream",
     "text": [
      "200 minutes is 3.33 hours.\n"
     ]
    }
   ],
   "source": [
    " '''This will convert 200 minutes to hours by diving by 60:'''\n",
    "x = round(200/60, 2)\n",
    "y = str(x)\n",
    "print(\"200 minutes is \" + y + \" hours.\")"
   ]
  },
  {
   "cell_type": "markdown",
   "id": "0e6f3713",
   "metadata": {},
   "source": [
    "#### Objectives:\n",
    "\n",
    "* List popular languages used in Data Science\n",
    "* List popular libraries for Data Science\n",
    "* List popularly used Data Science Tools\n",
    "\n"
   ]
  },
  {
   "cell_type": "markdown",
   "id": "5aebb95c",
   "metadata": {},
   "source": [
    "## Author\n",
    "Kalejaiye-Matti Oluwanifemi Favour"
   ]
  }
 ],
 "metadata": {
  "kernelspec": {
   "display_name": "Python 3 (ipykernel)",
   "language": "python",
   "name": "python3"
  },
  "language_info": {
   "codemirror_mode": {
    "name": "ipython",
    "version": 3
   },
   "file_extension": ".py",
   "mimetype": "text/x-python",
   "name": "python",
   "nbconvert_exporter": "python",
   "pygments_lexer": "ipython3",
   "version": "3.9.13"
  }
 },
 "nbformat": 4,
 "nbformat_minor": 5
}
